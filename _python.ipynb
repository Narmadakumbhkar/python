{
  "nbformat": 4,
  "nbformat_minor": 0,
  "metadata": {
    "colab": {
      "name": "#python",
      "provenance": [],
      "authorship_tag": "ABX9TyO4+WyYpKca6jk/kl75ZTWB",
      "include_colab_link": true
    },
    "kernelspec": {
      "name": "python3",
      "display_name": "Python 3"
    },
    "language_info": {
      "name": "python"
    }
  },
  "cells": [
    {
      "cell_type": "markdown",
      "metadata": {
        "id": "view-in-github",
        "colab_type": "text"
      },
      "source": [
        "<a href=\"https://colab.research.google.com/github/Narmadakumbhkar/python/blob/main/_python.ipynb\" target=\"_parent\"><img src=\"https://colab.research.google.com/assets/colab-badge.svg\" alt=\"Open In Colab\"/></a>"
      ]
    },
    {
      "cell_type": "code",
      "execution_count": null,
      "metadata": {
        "colab": {
          "base_uri": "https://localhost:8080/"
        },
        "id": "VFrn4V8E4nZz",
        "outputId": "01f31f14-3ebd-49ee-abae-ec34899c5fbb"
      },
      "outputs": [
        {
          "output_type": "stream",
          "name": "stdout",
          "text": [
            "7\n"
          ]
        }
      ],
      "source": [
        "a=2\n",
        "b=5\n",
        "c=a+b\n",
        "print(c)"
      ]
    },
    {
      "cell_type": "code",
      "source": [
        "a=int(input(\"enter a frist no.:\"))\n",
        "b=int(input(\"enter a second no:\"))\n",
        "c=a+b\n",
        "print(c)"
      ],
      "metadata": {
        "colab": {
          "base_uri": "https://localhost:8080/"
        },
        "id": "clY39ec55kOG",
        "outputId": "04604b1a-7b30-48ae-ce00-e660521ae24c"
      },
      "execution_count": null,
      "outputs": [
        {
          "output_type": "stream",
          "name": "stdout",
          "text": [
            "enter a frist no.:10\n",
            "enter a second no:20\n",
            "30\n"
          ]
        }
      ]
    },
    {
      "cell_type": "code",
      "source": [
        "s=int(input(\"enter a 1st value:\"))\n",
        "p=int(input(\"enter a 2nd value:\"))\n",
        "R=s-p\n",
        "print(\"total value is=\",R)"
      ],
      "metadata": {
        "colab": {
          "base_uri": "https://localhost:8080/"
        },
        "id": "MU4dU2Ic60Tr",
        "outputId": "2d64712e-8d91-4e68-8b62-45e33376a3e9"
      },
      "execution_count": null,
      "outputs": [
        {
          "output_type": "stream",
          "name": "stdout",
          "text": [
            "enter a 1st value:30\n",
            "enter a 2nd value:10\n",
            "total value is= 20\n"
          ]
        }
      ]
    },
    {
      "cell_type": "code",
      "source": [
        "a=int(input(\"Enter Any number:\"))\n",
        "no=a*a\n",
        "print(\"Result is=\",no)"
      ],
      "metadata": {
        "colab": {
          "base_uri": "https://localhost:8080/"
        },
        "id": "6Wxdbg8W70Ie",
        "outputId": "a7c9db6c-cc9c-49fa-d98f-b628dd47017d"
      },
      "execution_count": null,
      "outputs": [
        {
          "output_type": "stream",
          "name": "stdout",
          "text": [
            "Enter Any number:20\n",
            "Result is= 400\n"
          ]
        }
      ]
    },
    {
      "cell_type": "code",
      "source": [
        "p=int(input(\"princple= \"))\n",
        "R=int(input(\"rate= \"))\n",
        "T=int(input(\"time= \"))\n",
        "s=p*R*T/100\n",
        "print(\"Result is =\" ,s)"
      ],
      "metadata": {
        "colab": {
          "base_uri": "https://localhost:8080/"
        },
        "id": "lfOnCi3vLS2N",
        "outputId": "d9975a5c-15dc-41d7-c119-9d908d8c07ab"
      },
      "execution_count": null,
      "outputs": [
        {
          "output_type": "stream",
          "name": "stdout",
          "text": [
            "princple= 200\n",
            "rate= 2\n",
            "time= 2\n",
            "Result is = 8.0\n"
          ]
        }
      ]
    },
    {
      "cell_type": "code",
      "source": [
        "l=int(input(\"length=\"))\n",
        "w=int(input(\"width=\"))\n",
        "ractangle=l*w\n",
        "print(\"ractangle of area=\",ractangle)"
      ],
      "metadata": {
        "colab": {
          "base_uri": "https://localhost:8080/"
        },
        "id": "SknLN0lkNCct",
        "outputId": "83239ed7-1857-448c-dbd2-fd915ba55564"
      },
      "execution_count": null,
      "outputs": [
        {
          "output_type": "stream",
          "name": "stdout",
          "text": [
            "length=20\n",
            "width=10\n",
            "ractangle of area= 200\n"
          ]
        }
      ]
    },
    {
      "cell_type": "code",
      "source": [
        "r=float(input(\"enter redius value : \"))\n",
        "s=3.14*r*r\n",
        "print(\"circle area=\",s)"
      ],
      "metadata": {
        "id": "qcexSA-uPINR",
        "colab": {
          "base_uri": "https://localhost:8080/"
        },
        "outputId": "2c2e7e5e-3113-4882-ba8c-1524936c454d"
      },
      "execution_count": null,
      "outputs": [
        {
          "output_type": "stream",
          "name": "stdout",
          "text": [
            "enter redius value : 5\n",
            "circle area= 78.5\n"
          ]
        }
      ]
    },
    {
      "cell_type": "code",
      "source": [
        "## operators in python\n",
        "# Type casting in python\n",
        "\n",
        "a=float(2)             #float\n",
        "print(a)\n",
        "\n"
      ],
      "metadata": {
        "colab": {
          "base_uri": "https://localhost:8080/"
        },
        "id": "KJMRIBKNpxXo",
        "outputId": "e6d836bc-e342-4aac-dbea-cfb7a68daaef"
      },
      "execution_count": null,
      "outputs": [
        {
          "output_type": "stream",
          "name": "stdout",
          "text": [
            "2.0\n"
          ]
        }
      ]
    },
    {
      "cell_type": "code",
      "source": [
        "a=int(3.45)            #integer type   (calculation posible)\n",
        "print(a)\n",
        "b=2\n",
        "c=a+b\n",
        "print(c)"
      ],
      "metadata": {
        "colab": {
          "base_uri": "https://localhost:8080/"
        },
        "id": "KX9AwnxFrJgx",
        "outputId": "59a00c6f-a03c-4531-9b21-939b6800f7c5"
      },
      "execution_count": null,
      "outputs": [
        {
          "output_type": "stream",
          "name": "stdout",
          "text": [
            "3\n",
            "5\n"
          ]
        }
      ]
    },
    {
      "cell_type": "code",
      "source": [
        "a=str(3)               #string type    (calculation not posible)\n",
        "print(a)\n"
      ],
      "metadata": {
        "colab": {
          "base_uri": "https://localhost:8080/"
        },
        "id": "qhtYAYdmrR0R",
        "outputId": "360b6c00-fc59-49c8-b9cd-4063f1c2a978"
      },
      "execution_count": null,
      "outputs": [
        {
          "output_type": "stream",
          "name": "stdout",
          "text": [
            "3\n"
          ]
        }
      ]
    },
    {
      "cell_type": "code",
      "source": [
        "(1) #Arithmetic operators ====>  (+,-,/,*,%)\n",
        "(2) #Relational operators ====>  (==,>,<,>=,<=,!=)\n",
        "(3) #Assignment operators ====>  (=,+=,-=,*=,/=,%=)\n",
        "(4) #Logical operators   ====>   (and=(dono value true=true),or=(dono me ek value bhi true=true),not=(true=false,false=true))\n",
        "(5) #Membership operators ====>  (in,not in)\n",
        "(6) #Identity operators   ====>  (is,is not)\n"
      ],
      "metadata": {
        "id": "aGrzmCGXrgND"
      },
      "execution_count": null,
      "outputs": []
    },
    {
      "cell_type": "code",
      "source": [
        "#Relational operators\n",
        "a=2\n",
        "b=3\n",
        "c=a==b\n",
        "print(c)"
      ],
      "metadata": {
        "colab": {
          "base_uri": "https://localhost:8080/"
        },
        "id": "VM4T92Uhvniy",
        "outputId": "8b880857-bcef-4882-835a-2cdd5212718b"
      },
      "execution_count": null,
      "outputs": [
        {
          "output_type": "stream",
          "name": "stdout",
          "text": [
            "False\n"
          ]
        }
      ]
    },
    {
      "cell_type": "code",
      "source": [
        "a=3\n",
        "b=3\n",
        "c=a==b\n",
        "print(c)"
      ],
      "metadata": {
        "colab": {
          "base_uri": "https://localhost:8080/"
        },
        "id": "so0WllkFxiLe",
        "outputId": "b4831650-b890-4ebd-9b7a-75ff0001c678"
      },
      "execution_count": null,
      "outputs": [
        {
          "output_type": "stream",
          "name": "stdout",
          "text": [
            "True\n"
          ]
        }
      ]
    },
    {
      "cell_type": "code",
      "source": [
        "a=2\n",
        "b=3\n",
        "c=a!=b\n",
        "print(c)"
      ],
      "metadata": {
        "colab": {
          "base_uri": "https://localhost:8080/"
        },
        "id": "PnUQGx8Fxwej",
        "outputId": "52465841-b72c-4254-f322-a40438d2c011"
      },
      "execution_count": null,
      "outputs": [
        {
          "output_type": "stream",
          "name": "stdout",
          "text": [
            "True\n"
          ]
        }
      ]
    },
    {
      "cell_type": "code",
      "source": [
        "a=2\n",
        "b=3\n",
        "c=a<b\n",
        "print(c)"
      ],
      "metadata": {
        "colab": {
          "base_uri": "https://localhost:8080/"
        },
        "id": "R81uag1myNLK",
        "outputId": "3cb9ae1f-891e-42d4-e8f2-a977ba55c6e0"
      },
      "execution_count": null,
      "outputs": [
        {
          "output_type": "stream",
          "name": "stdout",
          "text": [
            "True\n"
          ]
        }
      ]
    },
    {
      "cell_type": "code",
      "source": [
        "a=2    #Assignment opretors\n",
        "b=3\n",
        "b+=a\n",
        "print(c)\n",
        "print(b)"
      ],
      "metadata": {
        "colab": {
          "base_uri": "https://localhost:8080/"
        },
        "id": "p2orlAcAzFUJ",
        "outputId": "fa27a139-7ebc-4a1a-ca70-b2abfbea8e37"
      },
      "execution_count": null,
      "outputs": [
        {
          "output_type": "stream",
          "name": "stdout",
          "text": [
            "True\n",
            "5\n"
          ]
        }
      ]
    },
    {
      "cell_type": "code",
      "source": [
        "a=2                    #membership opretors\n",
        "list=[1,2,3,4,5]\n",
        "if(a in list):\n",
        "  print(\"yes\")\n",
        "else:\n",
        "  print(\"No\")"
      ],
      "metadata": {
        "id": "IoqT86eM1B1z",
        "colab": {
          "base_uri": "https://localhost:8080/"
        },
        "outputId": "6f5fd2ad-46d6-448a-ecbd-144b67bf4a0b"
      },
      "execution_count": null,
      "outputs": [
        {
          "output_type": "stream",
          "name": "stdout",
          "text": [
            "yes\n"
          ]
        }
      ]
    },
    {
      "cell_type": "code",
      "source": [
        "a=2\n",
        "l=[1,2,3,4,5]\n",
        "if(a in l):\n",
        "  print(\"true\")\n",
        "else:\n",
        "  print(\"false\")"
      ],
      "metadata": {
        "colab": {
          "base_uri": "https://localhost:8080/"
        },
        "id": "JFhlV2BaGm3J",
        "outputId": "237511bb-5e33-48c8-ad64-06943b5cc039"
      },
      "execution_count": null,
      "outputs": [
        {
          "output_type": "stream",
          "name": "stdout",
          "text": [
            "true\n"
          ]
        }
      ]
    },
    {
      "cell_type": "code",
      "source": [
        "a=3\n",
        "l=[1,2,3,4,5]\n",
        "if(a not in l ):\n",
        "  print(\"yes\")\n",
        "else:\n",
        "  print(\"No\")"
      ],
      "metadata": {
        "id": "YMj6hBtZIGfF",
        "colab": {
          "base_uri": "https://localhost:8080/"
        },
        "outputId": "8b761ec2-76fb-4481-ea64-165640ba2414"
      },
      "execution_count": null,
      "outputs": [
        {
          "output_type": "stream",
          "name": "stdout",
          "text": [
            "No\n"
          ]
        }
      ]
    },
    {
      "cell_type": "code",
      "source": [
        "x=6                     #identity operater\n",
        "if(type(x) is int):\n",
        "  print(\"true\")\n",
        "else:\n",
        "  print(\"false\")"
      ],
      "metadata": {
        "colab": {
          "base_uri": "https://localhost:8080/"
        },
        "id": "91RyIHwSUDYz",
        "outputId": "f362819b-3ff9-4a3f-c526-ce1a05d4e072"
      },
      "execution_count": null,
      "outputs": [
        {
          "output_type": "stream",
          "name": "stdout",
          "text": [
            "true\n"
          ]
        }
      ]
    },
    {
      "cell_type": "code",
      "source": [
        "y=10.32\n",
        "if(type(y) is int):\n",
        "  print(\"true\")\n",
        "else:\n",
        "  print(\"false\")"
      ],
      "metadata": {
        "colab": {
          "base_uri": "https://localhost:8080/"
        },
        "id": "XOjuFEwgU6xD",
        "outputId": "c9d7e95d-c11b-4b40-d3b2-d5a9e4c2b03d"
      },
      "execution_count": null,
      "outputs": [
        {
          "output_type": "stream",
          "name": "stdout",
          "text": [
            "false\n"
          ]
        }
      ]
    },
    {
      "cell_type": "code",
      "source": [
        "z=20.34\n",
        "if(type(z)is float):\n",
        "  print(\"true\")\n",
        "else:\n",
        "  print(\"false\")"
      ],
      "metadata": {
        "colab": {
          "base_uri": "https://localhost:8080/"
        },
        "id": "cN5hLbDaVNoV",
        "outputId": "8e4c0f65-ce0c-4996-bd11-dac994c1fa2a"
      },
      "execution_count": null,
      "outputs": [
        {
          "output_type": "stream",
          "name": "stdout",
          "text": [
            "true\n"
          ]
        }
      ]
    },
    {
      "cell_type": "code",
      "source": [
        "a=60\n",
        "if(type(a) is not int):\n",
        "  print(\"True\")\n",
        "else:\n",
        "  print(\"False\")"
      ],
      "metadata": {
        "colab": {
          "base_uri": "https://localhost:8080/"
        },
        "id": "YNRrsTXEViUx",
        "outputId": "b0ee3aa7-87b2-43e8-bcfc-1fb24181c5fa"
      },
      "execution_count": null,
      "outputs": [
        {
          "output_type": "stream",
          "name": "stdout",
          "text": [
            "False\n"
          ]
        }
      ]
    },
    {
      "cell_type": "code",
      "source": [
        "## String & string methods in python (collection of chacter)\n",
        "\n",
        "name=\"My name is nikku\"\n",
        "print(name)\n",
        "\n"
      ],
      "metadata": {
        "id": "VQDTImUJWonM",
        "colab": {
          "base_uri": "https://localhost:8080/"
        },
        "outputId": "19cf6d47-761d-4c09-ec14-2dffb1c200ab"
      },
      "execution_count": null,
      "outputs": [
        {
          "output_type": "stream",
          "name": "stdout",
          "text": [
            "My name is nikku\n"
          ]
        }
      ]
    },
    {
      "cell_type": "code",
      "source": [
        "name=input(\"enter your name= \")\n",
        "print(\"Hi !\" +name) "
      ],
      "metadata": {
        "colab": {
          "base_uri": "https://localhost:8080/"
        },
        "id": "Gqxi07ITAP7x",
        "outputId": "fc31def7-318c-4ab9-efa8-2b076dc36380"
      },
      "execution_count": null,
      "outputs": [
        {
          "output_type": "stream",
          "name": "stdout",
          "text": [
            "enter your name= nikku\n",
            "Hi !nikku\n"
          ]
        }
      ]
    },
    {
      "cell_type": "code",
      "source": [
        "## Method Name       \n",
        "# (1) length()           #(include space)\n",
        "\n",
        "Data=\"python course\"\n",
        "x=len(Data)\n",
        "print(x)"
      ],
      "metadata": {
        "colab": {
          "base_uri": "https://localhost:8080/"
        },
        "id": "78KVpTtVAsIN",
        "outputId": "71a3f63f-3350-420c-b547-03f45bd0d9b9"
      },
      "execution_count": null,
      "outputs": [
        {
          "output_type": "stream",
          "name": "stdout",
          "text": [
            "13\n"
          ]
        }
      ]
    },
    {
      "cell_type": "code",
      "source": [
        "# (2) lower()\n",
        "\n",
        "Data=\"Narmada Kumbhkar\"       # (frist leter smal)\n",
        "y=(Data.lower())\n",
        "print(y)"
      ],
      "metadata": {
        "colab": {
          "base_uri": "https://localhost:8080/"
        },
        "id": "v4o0LrjzBdma",
        "outputId": "864e3ef3-c476-42f1-c89b-94402ff3eb91"
      },
      "execution_count": null,
      "outputs": [
        {
          "output_type": "stream",
          "name": "stdout",
          "text": [
            "narmada kumbhkar\n"
          ]
        }
      ]
    },
    {
      "cell_type": "code",
      "source": [
        "# (3) upper()\n",
        "\n",
        "data=\"Python course\"           # (all letter capital) \n",
        "a=(data.upper())\n",
        "print(a)"
      ],
      "metadata": {
        "colab": {
          "base_uri": "https://localhost:8080/"
        },
        "id": "gyafyli7CIw-",
        "outputId": "7da41e2b-7e33-4065-a612-b77140036dc9"
      },
      "execution_count": null,
      "outputs": [
        {
          "output_type": "stream",
          "name": "stdout",
          "text": [
            "PYTHON COURSE\n"
          ]
        }
      ]
    },
    {
      "cell_type": "code",
      "source": [
        "# replace()\n",
        "\n",
        "a=\"python course\"\n",
        "b=(a.replace(\"course\",\"classes\"))\n",
        "print(b)\n",
        "\n"
      ],
      "metadata": {
        "colab": {
          "base_uri": "https://localhost:8080/"
        },
        "id": "Mh41Us5JCx2d",
        "outputId": "4ab760de-6648-4eec-9ffc-ced484b78b71"
      },
      "execution_count": null,
      "outputs": [
        {
          "output_type": "stream",
          "name": "stdout",
          "text": [
            "python classes\n"
          ]
        }
      ]
    },
    {
      "cell_type": "code",
      "source": [
        "#split()\n",
        "\n",
        "r=\"my name is nikku\"\n",
        "s=(r.split())\n",
        "print(s)"
      ],
      "metadata": {
        "colab": {
          "base_uri": "https://localhost:8080/"
        },
        "id": "Io_gw4eUDi_7",
        "outputId": "1e68e634-4034-4cf4-f51f-c7127259706e"
      },
      "execution_count": null,
      "outputs": [
        {
          "output_type": "stream",
          "name": "stdout",
          "text": [
            "['my', 'name', 'is', 'nikku']\n"
          ]
        }
      ]
    },
    {
      "cell_type": "code",
      "source": [
        "# capitalize()\n",
        "\n",
        "s=\"my name is narmada\"     # (frist word frist letter capital)\n",
        "t=(s.capitalize())\n",
        "print(t)"
      ],
      "metadata": {
        "colab": {
          "base_uri": "https://localhost:8080/"
        },
        "id": "O4gBcFA8EhsD",
        "outputId": "8791ffce-bd85-44bd-a7d7-127f8d54c875"
      },
      "execution_count": null,
      "outputs": [
        {
          "output_type": "stream",
          "name": "stdout",
          "text": [
            "My name is narmada\n"
          ]
        }
      ]
    },
    {
      "cell_type": "code",
      "source": [
        "# center()\n",
        "\n",
        "a=\"my name\"\n",
        "b=(a.center(50))\n",
        "print(b)\n",
        "c=(a.center(25))\n",
        "print(c)\n",
        "d=(a.center(75))\n",
        "print(d)\n",
        "e=(a.center(100))\n",
        "print(e)\n",
        "f=(a.center(79))\n",
        "print(f)\n",
        "\n"
      ],
      "metadata": {
        "colab": {
          "base_uri": "https://localhost:8080/"
        },
        "id": "WV5yUczUFhj6",
        "outputId": "a45d623a-4637-487e-b567-31599cce4681"
      },
      "execution_count": null,
      "outputs": [
        {
          "output_type": "stream",
          "name": "stdout",
          "text": [
            "                     my name                      \n",
            "         my name         \n",
            "                                  my name                                  \n",
            "                                              my name                                               \n",
            "                                    my name                                    \n"
          ]
        }
      ]
    },
    {
      "cell_type": "code",
      "source": [
        "# endswith()\n",
        "\n",
        "G=\"python course\"\n",
        "H=(G.endswith(\"se\"))    # (end word end value =true only ,otherwise false)\n",
        "print(H)\n",
        "j=(G.endswith(\"on\"))\n",
        "print(j)\n",
        "k=(G.endswith(\"py\"))\n",
        "print(k)"
      ],
      "metadata": {
        "colab": {
          "base_uri": "https://localhost:8080/"
        },
        "id": "6tVIPrveGg67",
        "outputId": "7d0bcd86-e897-4ec4-e1ac-2517422a0850"
      },
      "execution_count": null,
      "outputs": [
        {
          "output_type": "stream",
          "name": "stdout",
          "text": [
            "True\n",
            "False\n",
            "False\n"
          ]
        }
      ]
    },
    {
      "cell_type": "code",
      "source": [
        "#find()\n",
        "\n",
        "A=\"python course\"\n",
        "B=(A.find(\"o\"))\n",
        "print(B)"
      ],
      "metadata": {
        "colab": {
          "base_uri": "https://localhost:8080/"
        },
        "id": "CQXCGjnvIM-r",
        "outputId": "0a4a6cea-22ee-4af0-eeaa-b49f732314eb"
      },
      "execution_count": null,
      "outputs": [
        {
          "output_type": "stream",
          "name": "stdout",
          "text": [
            "4\n"
          ]
        }
      ]
    },
    {
      "cell_type": "code",
      "source": [
        "# index()\n",
        "\n",
        "a=\"python course\"\n",
        "b=(a.index(\"n\"))\n",
        "print(b)"
      ],
      "metadata": {
        "colab": {
          "base_uri": "https://localhost:8080/"
        },
        "id": "q4vWl1tjJdd3",
        "outputId": "d8ca78d7-5d2b-488f-9f29-49537a0fd36e"
      },
      "execution_count": null,
      "outputs": [
        {
          "output_type": "stream",
          "name": "stdout",
          "text": [
            "5\n"
          ]
        }
      ]
    },
    {
      "cell_type": "code",
      "source": [
        "# isalpha()\n",
        "\n",
        "s=\"python course\"   #( string ke ander alphabet he to = true,space nhi hona chaheye)\n",
        "p=(s.isalpha())\n",
        "print(p)"
      ],
      "metadata": {
        "colab": {
          "base_uri": "https://localhost:8080/"
        },
        "id": "DjVos-CKKCQo",
        "outputId": "3773c297-cd0a-4987-96f0-43a1ef898763"
      },
      "execution_count": null,
      "outputs": [
        {
          "output_type": "stream",
          "name": "stdout",
          "text": [
            "False\n"
          ]
        }
      ]
    },
    {
      "cell_type": "code",
      "source": [
        "s=\"pythoncourse\"\n",
        "p=(s.isalpha())\n",
        "print(p)"
      ],
      "metadata": {
        "colab": {
          "base_uri": "https://localhost:8080/"
        },
        "id": "Bw7zNUy_KdaI",
        "outputId": "062750e3-bdb5-46a4-d3e5-8c3555a5ac32"
      },
      "execution_count": null,
      "outputs": [
        {
          "output_type": "stream",
          "name": "stdout",
          "text": [
            "True\n"
          ]
        }
      ]
    },
    {
      "cell_type": "code",
      "source": [
        "# isdigite\n",
        "\n",
        "a=\"12345\"\n",
        "b=(a.isdigit())\n",
        "print(b)"
      ],
      "metadata": {
        "colab": {
          "base_uri": "https://localhost:8080/"
        },
        "id": "mwX1i8yILQAL",
        "outputId": "d778cc6a-c671-4011-872e-3bb5c9d4eb60"
      },
      "execution_count": null,
      "outputs": [
        {
          "output_type": "stream",
          "name": "stdout",
          "text": [
            "True\n"
          ]
        }
      ]
    },
    {
      "cell_type": "code",
      "source": [
        "# isspace()\n",
        "\n",
        "j=\"python course\"\n",
        "k=(j.isspace())\n",
        "print(k)"
      ],
      "metadata": {
        "colab": {
          "base_uri": "https://localhost:8080/"
        },
        "id": "SjmfHClNL1ic",
        "outputId": "405174bf-6c2d-4f89-885c-5443ba78e888"
      },
      "execution_count": null,
      "outputs": [
        {
          "output_type": "stream",
          "name": "stdout",
          "text": [
            "False\n"
          ]
        }
      ]
    },
    {
      "cell_type": "code",
      "source": [
        "a=\"   \"\n",
        "b=(a.isspace())\n",
        "print(b)"
      ],
      "metadata": {
        "colab": {
          "base_uri": "https://localhost:8080/"
        },
        "id": "XcLzcQACMob9",
        "outputId": "73b73e1c-f93a-4e99-e89d-feb8edf5c90a"
      },
      "execution_count": null,
      "outputs": [
        {
          "output_type": "stream",
          "name": "stdout",
          "text": [
            "True\n"
          ]
        }
      ]
    },
    {
      "cell_type": "code",
      "source": [
        "# istitle()\n",
        "\n",
        "a=\"python course\"       # (frist letter capital=true,otherwish=false)\n",
        "b=(a.istitle())\n",
        "print(b)"
      ],
      "metadata": {
        "colab": {
          "base_uri": "https://localhost:8080/"
        },
        "id": "hJyhreEcNHx9",
        "outputId": "22a39e8e-4feb-4d8a-e98f-038e8a52db5b"
      },
      "execution_count": null,
      "outputs": [
        {
          "output_type": "stream",
          "name": "stdout",
          "text": [
            "False\n"
          ]
        }
      ]
    },
    {
      "cell_type": "code",
      "source": [
        "a=\"Python Course\"       #(frist word capitle=true)\n",
        "b=(a.istitle())\n",
        "print(b)"
      ],
      "metadata": {
        "colab": {
          "base_uri": "https://localhost:8080/"
        },
        "id": "Sl9mflRGN7M7",
        "outputId": "0364e0db-aacf-4a71-d970-331d5b0ef59c"
      },
      "execution_count": null,
      "outputs": [
        {
          "output_type": "stream",
          "name": "stdout",
          "text": [
            "True\n"
          ]
        }
      ]
    },
    {
      "cell_type": "code",
      "source": [
        "# count()\n",
        "\n",
        "a=\"i like apple and also like mango\"\n",
        "b=(a.count(\"like\"))\n",
        "print(b)"
      ],
      "metadata": {
        "colab": {
          "base_uri": "https://localhost:8080/"
        },
        "id": "hDdLQkFqOdu4",
        "outputId": "ac3bd601-dfd0-44f7-9465-2907330910e4"
      },
      "execution_count": null,
      "outputs": [
        {
          "output_type": "stream",
          "name": "stdout",
          "text": [
            "2\n"
          ]
        }
      ]
    },
    {
      "cell_type": "code",
      "source": [
        "# join()\n",
        "\n",
        "list=[\"nikku\",\"reenu\",\"princi\"]\n",
        "x=\"**\".join(list)\n",
        "print(x)"
      ],
      "metadata": {
        "colab": {
          "base_uri": "https://localhost:8080/"
        },
        "id": "eAinoYwsPR1U",
        "outputId": "e871f493-030c-4173-e801-ec883472b457"
      },
      "execution_count": null,
      "outputs": [
        {
          "output_type": "stream",
          "name": "stdout",
          "text": [
            "nikku**reenu**princi\n"
          ]
        }
      ]
    },
    {
      "cell_type": "code",
      "source": [
        "list=[\"nikku\",\"reenu\",\"princi\"]\n",
        "x=\"  \".join(list)\n",
        "print(x)"
      ],
      "metadata": {
        "colab": {
          "base_uri": "https://localhost:8080/"
        },
        "id": "sVHS3dx6QDLD",
        "outputId": "bea94ccf-0419-4a8d-a017-4765d7359e07"
      },
      "execution_count": null,
      "outputs": [
        {
          "output_type": "stream",
          "name": "stdout",
          "text": [
            "nikku  reenu  princi\n"
          ]
        }
      ]
    },
    {
      "cell_type": "code",
      "source": [
        "## python collections\n",
        "(\"list\",\"Tuple\",\"Set\",\"Dictionaries\")\n",
        "\n",
        "# (1)#LIist===>   # list is a collection which is ordered.\n",
        "               # and changeable. allows duplicate items.\n",
        "               # you can create with square brackets"
      ],
      "metadata": {
        "id": "hZY3cLZqQXnz"
      },
      "execution_count": null,
      "outputs": []
    },
    {
      "cell_type": "code",
      "source": [
        "list=[\"nikku\",\"renu\",\"princi\",\"chikku\"]\n",
        "print(list)"
      ],
      "metadata": {
        "colab": {
          "base_uri": "https://localhost:8080/"
        },
        "id": "PyZjx1IVSXwi",
        "outputId": "af67bb96-91e7-4da0-e7f7-bb6c4b830a43"
      },
      "execution_count": null,
      "outputs": [
        {
          "output_type": "stream",
          "name": "stdout",
          "text": [
            "['nikku', 'renu', 'princi', 'chikku']\n"
          ]
        }
      ]
    },
    {
      "cell_type": "code",
      "source": [
        "l=[\"a\",\"b\",\"c\",\"d\",\"e\",\"f\"]\n",
        "l[1]=\"s\"\n",
        "print(l)\n",
        "l[4]=\"(1,2,3)\"\n",
        "print(l)\n",
        "l[5]=\"{nikku}\"\n",
        "print(l)\n",
        "l.append(\"p\")\n",
        "print(l)\n",
        "l.append(\"a\")\n",
        "print(l)\n",
        "l.remove(\"{nikku}\")\n",
        "print(l)\n",
        "\n",
        "del l               # (list pehle he delite ho gai h to print karne pr error aayege)\n",
        "\n",
        "\n",
        "l=[\"a\",\"b\",\"c\",\"d\"]   # (list iteams clear=empty list)\n",
        "l.clear()\n",
        "print(l)"
      ],
      "metadata": {
        "colab": {
          "base_uri": "https://localhost:8080/"
        },
        "id": "oiljXOvmTYoR",
        "outputId": "8b857aff-67c1-471b-b6fe-631adb196d0e"
      },
      "execution_count": null,
      "outputs": [
        {
          "output_type": "stream",
          "name": "stdout",
          "text": [
            "['a', 's', 'c', 'd', 'e', 'f']\n",
            "['a', 's', 'c', 'd', '(1,2,3)', 'f']\n",
            "['a', 's', 'c', 'd', '(1,2,3)', '{nikku}']\n",
            "['a', 's', 'c', 'd', '(1,2,3)', '{nikku}', 'p']\n",
            "['a', 's', 'c', 'd', '(1,2,3)', '{nikku}', 'p', 'a']\n",
            "['a', 's', 'c', 'd', '(1,2,3)', 'p', 'a']\n",
            "[]\n"
          ]
        }
      ]
    },
    {
      "cell_type": "code",
      "source": [
        "#(2)# Tuple====>  # tuple is also a collection which is ordered.\n",
        "                  # and unchangeable Allows duplicate items.\n",
        "                  # you can create tuple with round brackets or parentheses\n",
        "    "
      ],
      "metadata": {
        "id": "DtItvfZ5UDD_"
      },
      "execution_count": null,
      "outputs": []
    },
    {
      "cell_type": "code",
      "source": [
        "A = (\"monitor\",\"printer\",\"mouse\",\"keyboard\")\n",
        "print(len(A))"
      ],
      "metadata": {
        "id": "AjLhhS_kZ0Ks",
        "colab": {
          "base_uri": "https://localhost:8080/"
        },
        "outputId": "9a1f27a4-7eb9-4a3b-fe4a-12a99e1b3b08"
      },
      "execution_count": null,
      "outputs": [
        {
          "output_type": "stream",
          "name": "stdout",
          "text": [
            "4\n"
          ]
        }
      ]
    },
    {
      "cell_type": "code",
      "source": [
        "a=(\"nikku\",\"chikku\",\"princi\",\"reenu\")\n",
        "b=(\"kumbhkar\",\"sen\",\"meena\",\"gupta\")\n",
        "c=a+b\n",
        "print(c)"
      ],
      "metadata": {
        "colab": {
          "base_uri": "https://localhost:8080/"
        },
        "id": "6vVvkeeMB-fx",
        "outputId": "9fa88cde-1549-4d45-cc9d-5e5874bb7a1b"
      },
      "execution_count": null,
      "outputs": [
        {
          "output_type": "stream",
          "name": "stdout",
          "text": [
            "('nikku', 'chikku', 'princi', 'reenu', 'kumbhkar', 'sen', 'meena', 'gupta')\n"
          ]
        }
      ]
    },
    {
      "cell_type": "code",
      "source": [
        "e=(\"a\",\"b\",\"c\",\"d\",\"e\",\"f\")           #count()\n",
        "x=e.count(\"a\")\n",
        "print(x) "
      ],
      "metadata": {
        "colab": {
          "base_uri": "https://localhost:8080/"
        },
        "id": "9yw8BxPHClEw",
        "outputId": "e98b335b-e2bb-4040-e690-2fe3386fbe81"
      },
      "execution_count": null,
      "outputs": [
        {
          "output_type": "stream",
          "name": "stdout",
          "text": [
            "1\n"
          ]
        }
      ]
    },
    {
      "cell_type": "code",
      "source": [
        "e=(\"a\",\"b\",\"c\",\"d\",\"e\")              #index()\n",
        "y=e.index(\"d\")\n",
        "print(y)"
      ],
      "metadata": {
        "colab": {
          "base_uri": "https://localhost:8080/"
        },
        "id": "OZ8vO4lEDEPT",
        "outputId": "5ffcd515-89a4-4100-d062-d5dea68e0651"
      },
      "execution_count": null,
      "outputs": [
        {
          "output_type": "stream",
          "name": "stdout",
          "text": [
            "3\n"
          ]
        }
      ]
    },
    {
      "cell_type": "code",
      "source": [
        "## (3) Set()===> # A set is also a collection which is unordered\n",
        "             # and unindexed. can not add duplicate item.\n",
        "             # you can create set with curly brackets.\n",
        "            "
      ],
      "metadata": {
        "id": "nwGL9Kd_FTR5"
      },
      "execution_count": null,
      "outputs": []
    },
    {
      "cell_type": "code",
      "source": [
        "H = {\"a\",\"b\",\"c\",\"d\",\"e\",\"f\"}\n",
        "print(H)\n",
        "H.add(\"c\")           #(not add dublicate)\n",
        "print(H)\n",
        "H.add(\"g\")           #(add new items)\n",
        "print(H)\n",
        "H.update([\"apple\",\"banana\",\"grapes\",\"mango\"])   #(add muiltiple items== update())\n",
        "print(H)\n"
      ],
      "metadata": {
        "colab": {
          "base_uri": "https://localhost:8080/"
        },
        "id": "NSK3VeKYIe41",
        "outputId": "9649a211-e39b-49fd-b918-1d129aa7f7c9"
      },
      "execution_count": null,
      "outputs": [
        {
          "output_type": "stream",
          "name": "stdout",
          "text": [
            "{'f', 'c', 'a', 'e', 'b', 'd'}\n",
            "{'f', 'c', 'a', 'e', 'b', 'd'}\n",
            "{'f', 'c', 'a', 'g', 'e', 'b', 'd'}\n",
            "{'banana', 'f', 'c', 'a', 'g', 'grapes', 'e', 'b', 'apple', 'mango', 'd'}\n"
          ]
        }
      ]
    },
    {
      "cell_type": "code",
      "source": [
        "  ## (4) Dictionary()==> # A dictionary is a collection which is unordered,\n",
        "                        # changeable and indexed.\n",
        "                        # you can create dictionary with curly brackets\n",
        "                        # and they have keys and values."
      ],
      "metadata": {
        "id": "PWPPyUnhIuYP"
      },
      "execution_count": null,
      "outputs": []
    },
    {
      "cell_type": "code",
      "source": [
        "mobile = {\"brand\":\"nokia\",\n",
        "          \"model\":\"Ta-1056\",\n",
        "          \"year\":\"2022\"}\n",
        "mobile[\"year\"]=2023\n",
        "print(mobile)\n",
        "print()\n",
        "print(len(mobile))           #len()\n",
        "print()\n",
        "\n",
        "mobile[\"color\"]= \"Black\"\n",
        "print(mobile)\n",
        "print()\n",
        "\n",
        "mobile.pop(\"model\")         #pop()\n",
        "print(mobile)\n",
        "#or\n",
        "\n",
        "del mobile[\"year\"]           #delite()\n",
        "print(mobile)\n",
        "\n",
        "mobile.clear()               #clear()\n",
        "print(mobile)"
      ],
      "metadata": {
        "colab": {
          "base_uri": "https://localhost:8080/"
        },
        "id": "XPdLcop3LYO_",
        "outputId": "764776f0-9bdf-4d2f-d417-55b384268d1e"
      },
      "execution_count": null,
      "outputs": [
        {
          "output_type": "stream",
          "name": "stdout",
          "text": [
            "{'brand': 'nokia', 'model': 'Ta-1056', 'year': 2023}\n",
            "\n",
            "3\n",
            "\n",
            "{'brand': 'nokia', 'model': 'Ta-1056', 'year': 2023, 'color': 'Black'}\n",
            "\n",
            "{'brand': 'nokia', 'year': 2023, 'color': 'Black'}\n",
            "{'brand': 'nokia', 'color': 'Black'}\n",
            "{}\n"
          ]
        }
      ]
    },
    {
      "cell_type": "code",
      "source": [
        "mobile = {\"brand\":\"nokia\",\n",
        "          \"model\":\"Ta-1056\",\n",
        "          \"year\":\"2022\"}\n",
        "    \n",
        "phone=mobile.copy()                                         #copy()\n",
        "print(phone)      "
      ],
      "metadata": {
        "id": "lmb_zXthNNTQ",
        "colab": {
          "base_uri": "https://localhost:8080/"
        },
        "outputId": "42bfe7f6-64fa-4fb3-bd4c-602368441857"
      },
      "execution_count": null,
      "outputs": [
        {
          "output_type": "stream",
          "name": "stdout",
          "text": [
            "{'brand': 'nokia', 'model': 'Ta-1056', 'year': '2022'}\n"
          ]
        }
      ]
    },
    {
      "cell_type": "code",
      "source": [
        "## python conditionas(if statements)\n",
        "# if\n",
        "a=5\n",
        "b=3\n",
        "if a>b:\n",
        "  print(\"a is greater than b \")"
      ],
      "metadata": {
        "colab": {
          "base_uri": "https://localhost:8080/"
        },
        "id": "DYaPltG-I3EG",
        "outputId": "4086dede-4724-4e72-ea11-4b21e2c70014"
      },
      "execution_count": null,
      "outputs": [
        {
          "output_type": "stream",
          "name": "stdout",
          "text": [
            "a is greater than b \n"
          ]
        }
      ]
    },
    {
      "cell_type": "code",
      "source": [
        "# if-else syntax\n",
        "a=3\n",
        "b=5\n",
        "if a>b:\n",
        "  print(\"true\")\n",
        "else:\n",
        "  print(\"false\")"
      ],
      "metadata": {
        "colab": {
          "base_uri": "https://localhost:8080/"
        },
        "id": "uZtCw-zJKboP",
        "outputId": "2f3007be-9c51-4fbd-aa56-603915d9ecc8"
      },
      "execution_count": null,
      "outputs": [
        {
          "output_type": "stream",
          "name": "stdout",
          "text": [
            "false\n"
          ]
        }
      ]
    },
    {
      "cell_type": "code",
      "source": [
        "a=int(input(\"enter frist no.= \"))\n",
        "b=int(input(\"enter second no.= \"))\n",
        "if a>b:\n",
        "  print(\"true\")\n",
        "else:\n",
        "  print(\"false\")"
      ],
      "metadata": {
        "colab": {
          "base_uri": "https://localhost:8080/"
        },
        "id": "sjDA7u_-K86k",
        "outputId": "d78340ce-5a30-46b8-da6e-0b9ef059c17a"
      },
      "execution_count": null,
      "outputs": [
        {
          "output_type": "stream",
          "name": "stdout",
          "text": [
            "enter frist no.= 10\n",
            "enter second no.= 5\n",
            "true\n"
          ]
        }
      ]
    },
    {
      "cell_type": "code",
      "source": [
        "age =int(input(\"enter your age =  \"))\n",
        "if age >= 18:\n",
        "  print(\"you are eligible for voting\")\n",
        "else:\n",
        "  print(\"you are not eligible for voting\")"
      ],
      "metadata": {
        "colab": {
          "base_uri": "https://localhost:8080/"
        },
        "id": "6YoNnFbbLs4P",
        "outputId": "18ae8ad7-37ae-4e4f-fa1a-5a7f09ac234b"
      },
      "execution_count": null,
      "outputs": [
        {
          "output_type": "stream",
          "name": "stdout",
          "text": [
            "enter your age =  20\n",
            "you are eligible for voting\n"
          ]
        }
      ]
    },
    {
      "cell_type": "code",
      "source": [
        "no=int(input(\"enter any number= \"))\n",
        "if no%2==0:\n",
        "  print(\"the number is even no.\")\n",
        "else:\n",
        "  print(\"the number is odd no.\")"
      ],
      "metadata": {
        "colab": {
          "base_uri": "https://localhost:8080/"
        },
        "id": "TjMVQnbgMyZD",
        "outputId": "5cf1dcdc-e14b-4721-c806-95513bab66b9"
      },
      "execution_count": null,
      "outputs": [
        {
          "output_type": "stream",
          "name": "stdout",
          "text": [
            "enter any number= 20\n",
            "the number is even no.\n"
          ]
        }
      ]
    },
    {
      "cell_type": "code",
      "source": [
        "## simple Elif syntax:\n",
        "\n",
        "a=int(input(\"enter 1st number: \"))\n",
        "b=int(input(\"enter 2nd number: \"))\n",
        "if a>b:\n",
        "  print(\"a is greater than b\")\n",
        "elif a==b:\n",
        "  print(\"a and b are equal\")\n",
        "else:\n",
        "  print(\"b is greater than a\")\n",
        "\n"
      ],
      "metadata": {
        "colab": {
          "base_uri": "https://localhost:8080/"
        },
        "id": "BbVF6YaVP3ie",
        "outputId": "a0ac1b8f-ee2c-4494-8e19-493fe6b7b5b5"
      },
      "execution_count": null,
      "outputs": [
        {
          "output_type": "stream",
          "name": "stdout",
          "text": [
            "enter 1st number: 4\n",
            "enter 2nd number: 8\n",
            "b is greater than a\n"
          ]
        }
      ]
    },
    {
      "cell_type": "code",
      "source": [
        "## simple nested-if syntax:\n",
        "\n",
        "a=40\n",
        "if a>10:\n",
        "  print(\"greater then 10,\")\n",
        "  if a>20:\n",
        "    print(\"and also greater 20!\")\n",
        "  else:\n",
        "    print(\"but not greater 20.\")"
      ],
      "metadata": {
        "colab": {
          "base_uri": "https://localhost:8080/"
        },
        "id": "O1SIwlkdST9x",
        "outputId": "e04e9801-d7a6-42f0-da0f-c1e03ca47276"
      },
      "execution_count": null,
      "outputs": [
        {
          "output_type": "stream",
          "name": "stdout",
          "text": [
            "greater then 10,\n",
            "and also greater 20!\n"
          ]
        }
      ]
    },
    {
      "cell_type": "code",
      "source": [
        "a=19\n",
        "if a>10:\n",
        "  print(\"greater then 10,\")\n",
        "  if a>20:\n",
        "    print(\"and also greater 20!\")\n",
        "  else:\n",
        "    print(\"but not greater 20.\")"
      ],
      "metadata": {
        "colab": {
          "base_uri": "https://localhost:8080/"
        },
        "id": "ZlfW7oMmUOzD",
        "outputId": "72be4dac-5110-4f9a-b6d6-dc14e05c57e7"
      },
      "execution_count": null,
      "outputs": [
        {
          "output_type": "stream",
          "name": "stdout",
          "text": [
            "greater then 10,\n",
            "but not greater 20.\n"
          ]
        }
      ]
    },
    {
      "cell_type": "code",
      "source": [
        "a=int(input(\"enter 1st number= \"))\n",
        "b=int(input(\"enter 2nd number= \"))\n",
        "c=int(input(\"enter 3rd number= \"))\n",
        "if a>b and a>c:\n",
        "  print(\"a is greater than b and c\")\n",
        "if b>a and b>c:\n",
        "  print(\"b is greater than a and c\")\n",
        "elif a==b and a==c:\n",
        "  print(\"a,b and c are equal\")\n",
        "else:\n",
        "  print(\"c is gerater than a and b\")"
      ],
      "metadata": {
        "colab": {
          "base_uri": "https://localhost:8080/"
        },
        "id": "8oUxSho-Wn2q",
        "outputId": "609bb13b-ab7f-4998-ba75-0c18c35a354a"
      },
      "execution_count": null,
      "outputs": [
        {
          "output_type": "stream",
          "name": "stdout",
          "text": [
            "enter 1st number= 3\n",
            "enter 2nd number= 8\n",
            "enter 3rd number= 1\n",
            "b is greater than a and c\n"
          ]
        }
      ]
    },
    {
      "cell_type": "code",
      "source": [
        "a=int(input(\"enter 1st number= \"))\n",
        "b=int(input(\"enter 2nd number= \"))\n",
        "c=int(input(\"enter 3rd number= \"))\n",
        "if a>b and a>c:\n",
        "  print(\"a is greater than b and c\")\n",
        "if b>a and b>c:\n",
        "  print(\"b is greater than a and c\")\n",
        "elif a==b and a==c:\n",
        "  print(\"a,b and c are equal\")\n",
        "else:\n",
        "  print(\"c is gerater than a and b\")"
      ],
      "metadata": {
        "colab": {
          "base_uri": "https://localhost:8080/"
        },
        "id": "RkJzm96ZVH48",
        "outputId": "e24f634c-2d9b-4eac-a4e2-895f60fcbd86"
      },
      "execution_count": null,
      "outputs": [
        {
          "output_type": "stream",
          "name": "stdout",
          "text": [
            "enter 1st number= 20\n",
            "enter 2nd number= 10\n",
            "enter 3rd number= 100\n",
            "c is gerater than a and b\n"
          ]
        }
      ]
    },
    {
      "cell_type": "markdown",
      "source": [
        "# loops in python\n",
        "# while & for loops\n"
      ],
      "metadata": {
        "id": "FioUe0ORcHGb"
      }
    },
    {
      "cell_type": "markdown",
      "source": [
        "# (1) while loop\n"
      ],
      "metadata": {
        "id": "916KWJNFcib8"
      }
    },
    {
      "cell_type": "code",
      "source": [
        "i = 1\n",
        "while i<=10:\n",
        "  print(i)\n",
        "  i+=1"
      ],
      "metadata": {
        "colab": {
          "base_uri": "https://localhost:8080/"
        },
        "id": "Z9a7P6-6bjhn",
        "outputId": "96576354-04fd-46b1-91ad-f88345a3cff0"
      },
      "execution_count": null,
      "outputs": [
        {
          "output_type": "stream",
          "name": "stdout",
          "text": [
            "1\n",
            "2\n",
            "3\n",
            "4\n",
            "5\n",
            "6\n",
            "7\n",
            "8\n",
            "9\n",
            "10\n"
          ]
        }
      ]
    },
    {
      "cell_type": "code",
      "source": [
        "i = 2\n",
        "while i<=40:\n",
        "  print(i)\n",
        "  i+=2"
      ],
      "metadata": {
        "colab": {
          "base_uri": "https://localhost:8080/"
        },
        "id": "55M4Nzhjc_sW",
        "outputId": "4378b384-cc7c-4e62-c131-35fe33f0f638"
      },
      "execution_count": null,
      "outputs": [
        {
          "output_type": "stream",
          "name": "stdout",
          "text": [
            "2\n",
            "4\n",
            "6\n",
            "8\n",
            "10\n",
            "12\n",
            "14\n",
            "16\n",
            "18\n",
            "20\n",
            "22\n",
            "24\n",
            "26\n",
            "28\n",
            "30\n",
            "32\n",
            "34\n",
            "36\n",
            "38\n",
            "40\n"
          ]
        }
      ]
    },
    {
      "cell_type": "code",
      "source": [
        "# the break statement\n",
        "\n",
        "\n",
        "i=1                   # break\n",
        "while i < 7:\n",
        "  print(i)\n",
        "  if i == 4:\n",
        "    break\n",
        "  i += 1"
      ],
      "metadata": {
        "colab": {
          "base_uri": "https://localhost:8080/"
        },
        "id": "0-K67fqddKBW",
        "outputId": "d92385be-9f8d-48d6-bb76-c859a226bf92"
      },
      "execution_count": null,
      "outputs": [
        {
          "output_type": "stream",
          "name": "stdout",
          "text": [
            "1\n",
            "2\n",
            "3\n",
            "4\n"
          ]
        }
      ]
    },
    {
      "cell_type": "code",
      "source": [
        "i = 0                    # continue\n",
        "while i < 7:\n",
        "  i += 1\n",
        "  if i == 4:\n",
        "    continue\n",
        "  print(i)\n"
      ],
      "metadata": {
        "colab": {
          "base_uri": "https://localhost:8080/"
        },
        "id": "M1JS_75sgBBY",
        "outputId": "68c2dc6d-7be3-471e-850e-5ae47d684085"
      },
      "execution_count": null,
      "outputs": [
        {
          "output_type": "stream",
          "name": "stdout",
          "text": [
            "1\n",
            "2\n",
            "3\n",
            "5\n",
            "6\n",
            "7\n"
          ]
        }
      ]
    },
    {
      "cell_type": "code",
      "source": [
        "i=1\n",
        "while i < 7:\n",
        "  i +=3\n",
        "  if i ==4:\n",
        "    continue\n",
        "  print(i)"
      ],
      "metadata": {
        "id": "zSgAzCwohQbH",
        "colab": {
          "base_uri": "https://localhost:8080/"
        },
        "outputId": "5d8b2191-a1f1-4d8e-a5ca-d52449d06fae"
      },
      "execution_count": null,
      "outputs": [
        {
          "output_type": "stream",
          "name": "stdout",
          "text": [
            "7\n"
          ]
        }
      ]
    },
    {
      "cell_type": "markdown",
      "source": [
        "## **for loop**"
      ],
      "metadata": {
        "id": "5PzKb1Y8H4G6"
      }
    },
    {
      "cell_type": "code",
      "source": [
        "a = [\"x\",\"y\",\"z\"]\n",
        "for w in a:\n",
        "  print(w)"
      ],
      "metadata": {
        "colab": {
          "base_uri": "https://localhost:8080/"
        },
        "id": "no2ROGi6H9Bi",
        "outputId": "6f0f15ab-8126-43e6-e1e4-c8e956a3b971"
      },
      "execution_count": null,
      "outputs": [
        {
          "output_type": "stream",
          "name": "stdout",
          "text": [
            "x\n",
            "y\n",
            "z\n"
          ]
        }
      ]
    },
    {
      "cell_type": "code",
      "source": [
        "for x in range(7):\n",
        "  print(x)"
      ],
      "metadata": {
        "colab": {
          "base_uri": "https://localhost:8080/"
        },
        "id": "Lk4n4BhVI6nd",
        "outputId": "ec0cb1ba-9249-4d72-f52b-31b66d85f652"
      },
      "execution_count": null,
      "outputs": [
        {
          "output_type": "stream",
          "name": "stdout",
          "text": [
            "0\n",
            "1\n",
            "2\n",
            "3\n",
            "4\n",
            "5\n",
            "6\n"
          ]
        }
      ]
    },
    {
      "cell_type": "code",
      "source": [
        "for x in range(2,7):\n",
        "  print(x)"
      ],
      "metadata": {
        "colab": {
          "base_uri": "https://localhost:8080/"
        },
        "id": "wPKc29VxJyz3",
        "outputId": "674128e8-be8b-4ddc-a009-885f423f94f4"
      },
      "execution_count": null,
      "outputs": [
        {
          "output_type": "stream",
          "name": "stdout",
          "text": [
            "2\n",
            "3\n",
            "4\n",
            "5\n",
            "6\n"
          ]
        }
      ]
    },
    {
      "cell_type": "code",
      "source": [
        "for x in range(2,20,2):\n",
        "  print(x)"
      ],
      "metadata": {
        "colab": {
          "base_uri": "https://localhost:8080/"
        },
        "id": "UpHgj0rgKDM4",
        "outputId": "508f58d7-1a7b-4e67-af83-27eab9ee8226"
      },
      "execution_count": null,
      "outputs": [
        {
          "output_type": "stream",
          "name": "stdout",
          "text": [
            "2\n",
            "4\n",
            "6\n",
            "8\n",
            "10\n",
            "12\n",
            "14\n",
            "16\n",
            "18\n"
          ]
        }
      ]
    },
    {
      "cell_type": "code",
      "source": [
        "a=int(input(\"input any no. for printing table= \"))\n",
        "for x in range(1,11):\n",
        "  b=a*x\n",
        "  print(a,\"*\",x,\"=\",b)"
      ],
      "metadata": {
        "colab": {
          "base_uri": "https://localhost:8080/"
        },
        "id": "plshtRkhKOvP",
        "outputId": "8eed0fcc-9bde-4568-ac8f-9dac2be2ef11"
      },
      "execution_count": null,
      "outputs": [
        {
          "output_type": "stream",
          "name": "stdout",
          "text": [
            "input any no. for printing table= 5\n",
            "5 * 1 = 5\n",
            "5 * 2 = 10\n",
            "5 * 3 = 15\n",
            "5 * 4 = 20\n",
            "5 * 5 = 25\n",
            "5 * 6 = 30\n",
            "5 * 7 = 35\n",
            "5 * 8 = 40\n",
            "5 * 9 = 45\n",
            "5 * 10 = 50\n"
          ]
        }
      ]
    },
    {
      "cell_type": "code",
      "source": [
        "b=int(input(\"enter your no.= \"))\n",
        "for x in range(2,40,6):\n",
        "  c=b*x\n",
        "  print(b,\"*\",4,\"=\",c)"
      ],
      "metadata": {
        "colab": {
          "base_uri": "https://localhost:8080/"
        },
        "id": "dbegIm_ELHL2",
        "outputId": "7369f559-6a09-42ec-fb1d-6f0dd1da053e"
      },
      "execution_count": null,
      "outputs": [
        {
          "output_type": "stream",
          "name": "stdout",
          "text": [
            "enter your no.= 6\n",
            "6 * 4 = 12\n",
            "6 * 4 = 48\n",
            "6 * 4 = 84\n",
            "6 * 4 = 120\n",
            "6 * 4 = 156\n",
            "6 * 4 = 192\n",
            "6 * 4 = 228\n"
          ]
        }
      ]
    },
    {
      "cell_type": "markdown",
      "source": [
        "# functions in pythion"
      ],
      "metadata": {
        "id": "j_UX-mvzNBV0"
      }
    },
    {
      "cell_type": "code",
      "source": [
        "# A Function is a block of code that performs a specific task.\n",
        "# TYPES OF FUNCTIONS-\n",
        "(1)# Built in functions\n",
        "(2)# User defined function\n"
      ],
      "metadata": {
        "id": "bNcjEfy0MAzX"
      },
      "execution_count": null,
      "outputs": []
    },
    {
      "cell_type": "code",
      "source": [
        "a=2\n",
        "b=3\n",
        "c=max((a,b))\n",
        "print(c)"
      ],
      "metadata": {
        "colab": {
          "base_uri": "https://localhost:8080/"
        },
        "id": "fb8w16ZdOUwH",
        "outputId": "63a0bcda-6683-41a6-90ff-c34066278c42"
      },
      "execution_count": null,
      "outputs": [
        {
          "output_type": "stream",
          "name": "stdout",
          "text": [
            "3\n"
          ]
        }
      ]
    },
    {
      "cell_type": "code",
      "source": [
        "x=10\n",
        "y=20\n",
        "z=sum((x,y))\n",
        "print(z)"
      ],
      "metadata": {
        "colab": {
          "base_uri": "https://localhost:8080/"
        },
        "id": "dbO-TaV4PMG_",
        "outputId": "1c01e022-b69b-40a0-dad9-6b7778af3db7"
      },
      "execution_count": null,
      "outputs": [
        {
          "output_type": "stream",
          "name": "stdout",
          "text": [
            "30\n"
          ]
        }
      ]
    },
    {
      "cell_type": "code",
      "source": [
        "a=2                                 # user defined function()\n",
        "def my_function():\n",
        "  b=a*a\n",
        "  print(b)\n",
        "my_function()"
      ],
      "metadata": {
        "colab": {
          "base_uri": "https://localhost:8080/"
        },
        "id": "pxXkc6FQY5R9",
        "outputId": "168fc852-6cbf-437d-80cb-564be774fa98"
      },
      "execution_count": null,
      "outputs": [
        {
          "output_type": "stream",
          "name": "stdout",
          "text": [
            "4\n"
          ]
        }
      ]
    },
    {
      "cell_type": "code",
      "source": [
        "def percentage(tot):\n",
        "  per = tot/500*100\n",
        "  return per\n",
        "phy=86\n",
        "che=90\n",
        "math=55\n",
        "hindi=80\n",
        "eng=88\n",
        "tot=sum((phy,che,math,hindi,eng))\n",
        "result = percentage(tot)\n",
        "print(\"your total no. is \",tot)\n",
        "print(\"your percentage is\",result)"
      ],
      "metadata": {
        "id": "CFDdYg7aPy17",
        "colab": {
          "base_uri": "https://localhost:8080/"
        },
        "outputId": "5d8cd767-671a-48aa-8153-6e96690cc445"
      },
      "execution_count": null,
      "outputs": [
        {
          "output_type": "stream",
          "name": "stdout",
          "text": [
            "your total no. is  399\n",
            "your percentage is 79.80000000000001\n"
          ]
        }
      ]
    },
    {
      "cell_type": "code",
      "source": [
        "def printline():                                      # printline()\n",
        "  print(\"............................\")\n",
        "def percentage(tot):\n",
        "  per = tot/5\n",
        "  return per\n",
        "hindi=98\n",
        "english=64\n",
        "maths=98\n",
        "sanskrit=98\n",
        "science=95\n",
        "social_science=86\n",
        "tot=sum((hindi,english,maths,sanskrit,science))\n",
        "result = percentage(tot)\n",
        "printline()\n",
        "print(\"your total no.is\",tot)\n",
        "printline()\n",
        "print(\"your percentege is\",result)\n",
        "printline()"
      ],
      "metadata": {
        "colab": {
          "base_uri": "https://localhost:8080/"
        },
        "id": "w6meU3jVa8WS",
        "outputId": "6e23f3b9-fabb-4315-f550-484835362ca0"
      },
      "execution_count": null,
      "outputs": [
        {
          "output_type": "stream",
          "name": "stdout",
          "text": [
            "............................\n",
            "your total no.is 453\n",
            "............................\n",
            "your percentege is 90.6\n",
            "............................\n"
          ]
        }
      ]
    },
    {
      "cell_type": "code",
      "source": [
        "def percentage(tot):\n",
        "  per = tot/5\n",
        "  return per\n",
        "h=55\n",
        "e=73\n",
        "s=67\n",
        "ss=70\n",
        "m=81\n",
        "tot=sum((h,e,s,ss,m))\n",
        "result= percentage(tot)\n",
        "print(\"your total no.\",tot)\n",
        "print(\"..........................\")\n",
        "print(\"your percentage is \",result)\n",
        "print(\"..........................\")\n"
      ],
      "metadata": {
        "colab": {
          "base_uri": "https://localhost:8080/"
        },
        "id": "bu8ijoFMehka",
        "outputId": "b0c39a8d-1105-4d6f-e6ab-ee00905f6496"
      },
      "execution_count": null,
      "outputs": [
        {
          "output_type": "stream",
          "name": "stdout",
          "text": [
            "your total no. 346\n",
            "..........................\n",
            "your percentage is  69.2\n",
            "..........................\n"
          ]
        }
      ]
    },
    {
      "cell_type": "markdown",
      "source": [
        "# lambda function in python"
      ],
      "metadata": {
        "id": "RnUpEp8Bkplq"
      }
    },
    {
      "cell_type": "code",
      "source": [
        "# one line function or anonymous function."
      ],
      "metadata": {
        "id": "WFeavMMbkytf"
      },
      "execution_count": null,
      "outputs": []
    },
    {
      "cell_type": "markdown",
      "source": [
        ""
      ],
      "metadata": {
        "id": "DXFdOYU0oINb"
      }
    },
    {
      "cell_type": "code",
      "source": [
        "def sqt(a):\n",
        "  print(a*a)\n",
        "sqt(2)"
      ],
      "metadata": {
        "colab": {
          "base_uri": "https://localhost:8080/"
        },
        "id": "ADDfjnVXk9RV",
        "outputId": "b7eae301-fa28-4321-f0f6-83b9f397bd82"
      },
      "execution_count": null,
      "outputs": [
        {
          "output_type": "stream",
          "name": "stdout",
          "text": [
            "4\n"
          ]
        }
      ]
    },
    {
      "cell_type": "code",
      "source": [
        "sqt = lambda a : a*a           # lambda()\n",
        "print(sqt(2))"
      ],
      "metadata": {
        "colab": {
          "base_uri": "https://localhost:8080/"
        },
        "id": "59quzO-Fl2B4",
        "outputId": "e3ad18c2-b098-45b4-9168-c76a734270ac"
      },
      "execution_count": null,
      "outputs": [
        {
          "output_type": "stream",
          "name": "stdout",
          "text": [
            "4\n"
          ]
        }
      ]
    },
    {
      "cell_type": "code",
      "source": [
        "sqt = lambda b:b*b\n",
        "print(sqt(6))"
      ],
      "metadata": {
        "colab": {
          "base_uri": "https://localhost:8080/"
        },
        "id": "DmCetF9JmKOm",
        "outputId": "fc977cd3-4475-45a8-d5b4-cb8c7c0c29c3"
      },
      "execution_count": null,
      "outputs": [
        {
          "output_type": "stream",
          "name": "stdout",
          "text": [
            "36\n"
          ]
        }
      ]
    },
    {
      "cell_type": "code",
      "source": [
        "tot = lambda x,y :x+y\n",
        "print(tot(20,40))"
      ],
      "metadata": {
        "colab": {
          "base_uri": "https://localhost:8080/"
        },
        "id": "0SVz_63fmw7b",
        "outputId": "9e1eba83-93a2-473e-b43b-4bf6ef0b92da"
      },
      "execution_count": null,
      "outputs": [
        {
          "output_type": "stream",
          "name": "stdout",
          "text": [
            "60\n"
          ]
        }
      ]
    },
    {
      "cell_type": "code",
      "source": [
        "mult = lambda s,t,q,r:s*t*q*r\n",
        "print(mult(11,22,33,44))"
      ],
      "metadata": {
        "colab": {
          "base_uri": "https://localhost:8080/"
        },
        "id": "LCnjj_FQnLRa",
        "outputId": "8498be52-888e-4626-b32f-d04804698cec"
      },
      "execution_count": null,
      "outputs": [
        {
          "output_type": "stream",
          "name": "stdout",
          "text": [
            "351384\n"
          ]
        }
      ]
    },
    {
      "cell_type": "markdown",
      "source": [
        ""
      ],
      "metadata": {
        "id": "DYrYz87sol1O"
      }
    },
    {
      "cell_type": "markdown",
      "source": [
        "# Modules in python"
      ],
      "metadata": {
        "id": "LBhs4RiLol4r"
      }
    },
    {
      "cell_type": "code",
      "source": [
        "# A module is file containing functions which can be imported and used in our programs.\n",
        "## you can use module by using two methotds.\n",
        "#pre created modules-\n",
        "#(1) using Built in modules - it is pre installed in python.\n",
        "#(2) using external modules - you have to install before using."
      ],
      "metadata": {
        "id": "S6e0-brposNw"
      },
      "execution_count": null,
      "outputs": []
    },
    {
      "cell_type": "code",
      "source": [
        "import time;\n",
        "localtime = time.asctime(time.localtime(time.time()))\n",
        "print(localtime)"
      ],
      "metadata": {
        "colab": {
          "base_uri": "https://localhost:8080/"
        },
        "id": "Wu-yBoU28raj",
        "outputId": "1bad7d33-02db-48ff-b311-dfec6528baaa"
      },
      "execution_count": null,
      "outputs": [
        {
          "output_type": "stream",
          "name": "stdout",
          "text": [
            "Sat May 14 19:05:54 2022\n"
          ]
        }
      ]
    },
    {
      "cell_type": "code",
      "source": [
        "import calendar;\n",
        "cal = calendar.month(2022,4)\n",
        "print(\"calendar:\")\n",
        "print(cal)"
      ],
      "metadata": {
        "colab": {
          "base_uri": "https://localhost:8080/"
        },
        "id": "Lwb3sVJ79jxT",
        "outputId": "d5ee9ca3-6085-44d8-8e7e-72a813fcc6f4"
      },
      "execution_count": null,
      "outputs": [
        {
          "output_type": "stream",
          "name": "stdout",
          "text": [
            "calendar:\n",
            "     April 2022\n",
            "Mo Tu We Th Fr Sa Su\n",
            "             1  2  3\n",
            " 4  5  6  7  8  9 10\n",
            "11 12 13 14 15 16 17\n",
            "18 19 20 21 22 23 24\n",
            "25 26 27 28 29 30\n",
            "\n"
          ]
        }
      ]
    },
    {
      "cell_type": "markdown",
      "source": [
        "# file handling in python"
      ],
      "metadata": {
        "id": "4wg4eHIOaSlG"
      }
    },
    {
      "cell_type": "code",
      "source": [
        "# two type of file in python-\n",
        "(1)# Text files (ex.txt)\n",
        "(2)# Binary files(.jpg,.dat)\n"
      ],
      "metadata": {
        "id": "BJJQsDA9aYee"
      },
      "execution_count": null,
      "outputs": []
    },
    {
      "cell_type": "code",
      "source": [
        ""
      ],
      "metadata": {
        "id": "tj8-5SZOfida"
      },
      "execution_count": null,
      "outputs": []
    }
  ]
}