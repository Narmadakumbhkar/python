{
  "cells": [
    {
      "cell_type": "markdown",
      "metadata": {
        "id": "view-in-github",
        "colab_type": "text"
      },
      "source": [
        "<a href=\"https://colab.research.google.com/github/Narmadakumbhkar/python/blob/main/Module1_Py_Fundamentals.ipynb\" target=\"_parent\"><img src=\"https://colab.research.google.com/assets/colab-badge.svg\" alt=\"Open In Colab\"/></a>"
      ]
    },
    {
      "cell_type": "markdown",
      "metadata": {
        "id": "2hkZZRb_dmiv"
      },
      "source": [
        "#  MODULE 1:  Python    Fundamentals \n",
        "\n"
      ]
    },
    {
      "cell_type": "markdown",
      "metadata": {
        "id": "iETZerCGdmi0"
      },
      "source": [
        "### Basics "
      ]
    },
    {
      "cell_type": "code",
      "execution_count": null,
      "metadata": {
        "colab": {
          "base_uri": "https://localhost:8080/"
        },
        "id": "JXoTG4hYdmi1",
        "outputId": "5bc80a5e-2dfd-4884-b728-aa1ccd36333c"
      },
      "outputs": [
        {
          "output_type": "stream",
          "name": "stdout",
          "text": [
            "Hello World\n"
          ]
        }
      ],
      "source": [
        "# Hello  World\n",
        "print(\"Hello World\")"
      ]
    },
    {
      "cell_type": "code",
      "execution_count": null,
      "metadata": {
        "colab": {
          "base_uri": "https://localhost:8080/"
        },
        "id": "Mbbq7O3cdmi3",
        "outputId": "3b60846b-e6a9-4fa7-f598-a319825a607b"
      },
      "outputs": [
        {
          "output_type": "stream",
          "name": "stdout",
          "text": [
            "True\n"
          ]
        }
      ],
      "source": [
        "#Indentation : Correct Way \n",
        "if True:\n",
        "    print (\"True\")\n",
        "else:\n",
        "    print (\"False\")"
      ]
    },
    {
      "cell_type": "code",
      "execution_count": null,
      "metadata": {
        "colab": {
          "base_uri": "https://localhost:8080/"
        },
        "id": "B0D8uwVkdmi4",
        "outputId": "4480bdf8-ada0-4d41-cb6e-af1194618954"
      },
      "outputs": [
        {
          "output_type": "stream",
          "name": "stdout",
          "text": [
            "Answer\n",
            "True\n",
            "False\n"
          ]
        }
      ],
      "source": [
        "# Indentation : Improper \n",
        "if True:\n",
        "    print (\"Answer\")\n",
        "    print (\"True\")\n",
        "else:\n",
        "    print (\"Answer\")\n",
        "print (\"False\")"
      ]
    },
    {
      "cell_type": "code",
      "execution_count": null,
      "metadata": {
        "colab": {
          "base_uri": "https://localhost:8080/"
        },
        "id": "Wml5r-sXdmi5",
        "outputId": "a6504a83-7c80-4740-8fdd-67940516498f"
      },
      "outputs": [
        {
          "output_type": "stream",
          "name": "stdout",
          "text": [
            "Total =  6\n"
          ]
        }
      ],
      "source": [
        "# Multiline\n",
        "item_one = 1\n",
        "item_two = 2\n",
        "item_three = 3\n",
        "total = item_one + \\\n",
        "        item_two + \\\n",
        "        item_three\n",
        "print(\"Total = \",total)        "
      ]
    },
    {
      "cell_type": "code",
      "execution_count": null,
      "metadata": {
        "colab": {
          "base_uri": "https://localhost:8080/"
        },
        "id": "iIWgxFHedmi5",
        "outputId": "c5c54754-02ad-4afa-b569-71cb58efeba7"
      },
      "outputs": [
        {
          "output_type": "stream",
          "name": "stdout",
          "text": [
            "1st Week day is  Mon\n"
          ]
        }
      ],
      "source": [
        "# Array elements declaration \n",
        "Day_of_Week = [\"Mon\",\"Tue\",\"Wed\",\"Thu\",\"Fri\",\"Sat\",\"Sun\"]\n",
        "                  \n",
        "print(\"1st Week day is \",Day_of_Week[0])\n"
      ]
    },
    {
      "cell_type": "code",
      "execution_count": null,
      "metadata": {
        "colab": {
          "base_uri": "https://localhost:8080/"
        },
        "id": "zNPnGzSPdmi6",
        "outputId": "d3d9fac0-0522-4432-d25f-f9558c0a524b"
      },
      "outputs": [
        {
          "output_type": "stream",
          "name": "stdout",
          "text": [
            "z = x +y =  9\n"
          ]
        }
      ],
      "source": [
        "# Multiple commands in one line \n",
        "x=4; y=5; z = x + y ; print(\"z = x +y = \",z)"
      ]
    },
    {
      "cell_type": "code",
      "execution_count": null,
      "metadata": {
        "colab": {
          "base_uri": "https://localhost:8080/"
        },
        "id": "IlsnvWwudmi7",
        "outputId": "178fc396-fdfa-4067-ee0d-12f24d71c670"
      },
      "outputs": [
        {
          "output_type": "stream",
          "name": "stdout",
          "text": [
            "1 2 john\n"
          ]
        }
      ],
      "source": [
        "#Multiple values to multiple variables\n",
        "a,b,c = 1,2,\"john\"\n",
        "print(a,b,c)\n"
      ]
    },
    {
      "cell_type": "markdown",
      "metadata": {
        "id": "V2OruJvMdmi8"
      },
      "source": [
        "### Strings   Lists and Tuples  and Dictionaries "
      ]
    },
    {
      "cell_type": "code",
      "execution_count": null,
      "metadata": {
        "colab": {
          "base_uri": "https://localhost:8080/"
        },
        "id": "7MtVsdJRdmi8",
        "outputId": "63ca66a9-5e2c-4363-b543-6e690a3a5119"
      },
      "outputs": [
        {
          "output_type": "stream",
          "name": "stdout",
          "text": [
            "Hello World!\n",
            "H\n",
            "llo W\n",
            "llo World!\n",
            "Hello World!Hello World!\n",
            "Hello World!TEST\n"
          ]
        }
      ],
      "source": [
        "# Strings\n",
        "str = 'Hello World!'\n",
        "\n",
        "print (str)          # Prints complete string\n",
        "print (str[0])       # Prints first character of the string\n",
        "print (str[2:7])     # Prints characters starting from 3rd to 5th\n",
        "print (str[2:])      # Prints string starting from 3rd character\n",
        "print (str * 2)      # Prints string two times\n",
        "print (str + \"TEST\") # Prints concatenated string"
      ]
    },
    {
      "cell_type": "code",
      "execution_count": null,
      "metadata": {
        "colab": {
          "base_uri": "https://localhost:8080/"
        },
        "id": "M-9YqddKdmi9",
        "outputId": "b910c513-9878-4dcd-d99a-17dd6235d19b"
      },
      "outputs": [
        {
          "output_type": "stream",
          "name": "stdout",
          "text": [
            "['abcd', 1234, 23.2, 'pqr', 99]\n",
            "abcd\n",
            "[1234, 23.2]\n",
            "[23.2, 'pqr', 99]\n",
            "[1234, 'abcd', 1234, 'abcd']\n",
            "['abcd', 1234, 23.2, 'pqr', 99, 1234, 'abcd']\n",
            "['abcd', 25, 23.2, 'pqr', 99]\n"
          ]
        }
      ],
      "source": [
        "# lists\n",
        "list1 = ['abcd', 1234, 23.2, 'pqr', 99 ]\n",
        "sublist1 = [1234, 'abcd']\n",
        "\n",
        "print (list1)          # Prints complete list\n",
        "print (list1[0])       # Prints first element of the list\n",
        "print (list1[1:3])    # Prints elements starting from 2nd till 3rd \n",
        "print (list1[2:])      # Prints elements starting from 3rd element\n",
        "print (sublist1 * 2)  # Prints list two times\n",
        "print (list1 + sublist1) # Prints concatenated lists\n",
        "\n",
        "list1[1] = 25        # change second element of a list \n",
        "print(list1)         # Prints entire list"
      ]
    },
    {
      "cell_type": "code",
      "execution_count": null,
      "metadata": {
        "colab": {
          "base_uri": "https://localhost:8080/"
        },
        "id": "VyYMLbBpdmi-",
        "outputId": "253e9a3e-6779-4226-de5f-511b62f987d0"
      },
      "outputs": [
        {
          "output_type": "stream",
          "name": "stdout",
          "text": [
            "('abcd', 1234, 23.2, 'pqr', 99)\n",
            "abcd\n",
            "(1234, 23.2)\n",
            "(23.2, 'pqr', 99)\n",
            "(1234, 'abcd', 1234, 'abcd')\n",
            "('abcd', 1234, 23.2, 'pqr', 99, 1234, 'abcd')\n"
          ]
        }
      ],
      "source": [
        "# tuples - Read only lists \n",
        "tuple1 = ('abcd', 1234, 23.2, 'pqr', 99)\n",
        "subtuple1 = (1234, 'abcd')\n",
        "\n",
        "print (tuple1)           # Prints complete list\n",
        "print (tuple1[0])        # Prints first element of the list\n",
        "print (tuple1[1:3])      # Prints elements starting from 2nd till 3rd \n",
        "print (tuple1[2:])       # Prints elements starting from 3rd element\n",
        "print (subtuple1 * 2)   # Prints list two times\n",
        "print (tuple1 + subtuple1) # Prints concatenated lists"
      ]
    },
    {
      "cell_type": "code",
      "execution_count": null,
      "metadata": {
        "colab": {
          "base_uri": "https://localhost:8080/"
        },
        "id": "KE1H7Hvodmi_",
        "outputId": "06e0fdaf-0eef-402b-df56-a221f5ac2411"
      },
      "outputs": [
        {
          "output_type": "stream",
          "name": "stdout",
          "text": [
            "Alpha\n",
            "Gamma\n",
            "{'one': 'Alpha', 2: 'Gamma'}\n",
            "dict_keys(['Name', 'roll', 'Dept'])\n",
            "dict_values(['Joe', 1234, 'Sales'])\n"
          ]
        }
      ],
      "source": [
        "# Dictionary \n",
        "dict1 = {}\n",
        "dict1['one'] = \"Alpha\"\n",
        "dict1[2]     = \"Beta\"\n",
        "dict1[2]     = \"Gamma\"\n",
        "\n",
        "dict2 = {'Name': 'Joe','roll':1234, 'Dept': 'Sales'}\n",
        "\n",
        "print (dict1['one'])     # Prints value for 'one' key\n",
        "print (dict1[2])         # Prints value for 2 key\n",
        "print (dict1)            # Prints complete dictionary\n",
        "print (dict2.keys())     # Prints all the keys\n",
        "print (dict2.values())   # Prints all the values"
      ]
    },
    {
      "cell_type": "markdown",
      "metadata": {
        "id": "qm6S2MEQdmi_"
      },
      "source": [
        "### Basic operators \n"
      ]
    },
    {
      "cell_type": "code",
      "execution_count": null,
      "metadata": {
        "colab": {
          "base_uri": "https://localhost:8080/"
        },
        "id": "EdtgQIIodmjA",
        "outputId": "b5283801-af47-4286-ac00-1056dfba0652"
      },
      "outputs": [
        {
          "output_type": "stream",
          "name": "stdout",
          "text": [
            "a+b =  16\n",
            "a-b =  6\n",
            "a*b =  55\n",
            "a/b =  2.2\n",
            "a//b =  2\n",
            "a%b =  1\n",
            "x**y =  32\n"
          ]
        }
      ],
      "source": [
        "#----------------------------------------\n",
        "# Arithmetic Operators \n",
        "a = 11\n",
        "b = 5\n",
        "c = 0\n",
        "x = 2\n",
        "y = 5\n",
        "#------------------------------------\n",
        "c = a + b # sum \n",
        "print(\"a+b = \",c)\n",
        "\n",
        "c = a - b  #subtraction \n",
        "print(\"a-b = \",c) \n",
        "\n",
        "c = a * b # Multiplication \n",
        "print(\"a*b = \",c) \n",
        "\n",
        "c = a / b # Division \n",
        "print(\"a/b = \",c)\n",
        "\n",
        "c = a // b # Division \n",
        "print(\"a//b = \",c)\n",
        "\n",
        "c = a % b # Modulo Division \n",
        "print(\"a%b = \",c)\n",
        "\n",
        "c = x**y # exponent\n",
        "print(\"x**y = \",c) "
      ]
    },
    {
      "cell_type": "markdown",
      "metadata": {
        "id": "oxaFJsPRdmjA"
      },
      "source": [
        " ### Comparison Operators "
      ]
    },
    {
      "cell_type": "code",
      "source": [
        "#"
      ],
      "metadata": {
        "id": "GXl7zB4wvOSo"
      },
      "execution_count": null,
      "outputs": []
    },
    {
      "cell_type": "markdown",
      "source": [
        "# WRITE A PYTHON PROGRAM TO PRINT FIZZ IF THE NUMBER IS DIVISIBLE BY 3 . IF THE NUMBER IS DIVISIBLE BY 5 PRINT BUZZ IF IT IS DIVISIBLE BY BOTH PRINT FIZZ BUZZ.\n",
        "\n",
        " TAKE INPUT FROM USER"
      ],
      "metadata": {
        "id": "nqi1lF2cvPF-"
      }
    },
    {
      "cell_type": "code",
      "source": [
        "n=int(input(\"Enter a number\"))\n",
        "\n",
        "if n%3==0 and n%5==0:\n",
        " print(\"fizz buzz\")\n",
        "elif n%3==0:\n",
        " rint(\"fizz1\")\n",
        "elif n%5==0:\n",
        "  print(\"buzz\")\n",
        "else:\n",
        "  print()"
      ],
      "metadata": {
        "colab": {
          "base_uri": "https://localhost:8080/"
        },
        "id": "aAM7O7cZ0R48",
        "outputId": "8de17a02-335c-4205-ba41-604ee8b996d2"
      },
      "execution_count": null,
      "outputs": [
        {
          "output_type": "stream",
          "name": "stdout",
          "text": [
            "Enter a number15\n",
            "fizz buzz\n"
          ]
        }
      ]
    },
    {
      "cell_type": "code",
      "execution_count": null,
      "metadata": {
        "colab": {
          "base_uri": "https://localhost:8080/"
        },
        "id": "DPKk_I_gdmjA",
        "outputId": "47989328-e200-4729-d0da-1c191b2f0c57"
      },
      "outputs": [
        {
          "output_type": "execute_result",
          "data": {
            "text/plain": [
              "0"
            ]
          },
          "metadata": {},
          "execution_count": 29
        }
      ],
      "source": [
        "# Set variable values \n",
        "a = 21;b = 1;c = 0;0"
      ]
    },
    {
      "cell_type": "code",
      "source": [
        "# If- Else Structure\n",
        "a,b=10,15\n",
        "if a>b:\n",
        "  print(\"a>b\")\n",
        "# elif a<b:\n",
        "#   print(\"b is greater\")\n",
        "else:\n",
        "  print(\"equal\")"
      ],
      "metadata": {
        "colab": {
          "base_uri": "https://localhost:8080/"
        },
        "id": "ogGKoPUotfeP",
        "outputId": "6f1530e0-6a5f-4145-917f-28f7a8592cf0"
      },
      "execution_count": null,
      "outputs": [
        {
          "output_type": "stream",
          "name": "stdout",
          "text": [
            "equal\n"
          ]
        }
      ]
    },
    {
      "cell_type": "code",
      "execution_count": null,
      "metadata": {
        "colab": {
          "base_uri": "https://localhost:8080/"
        },
        "id": "Q2QJZ0HNdmjB",
        "outputId": "ecb917c6-bdab-4543-a42d-5aa501a52199"
      },
      "outputs": [
        {
          "output_type": "stream",
          "name": "stdout",
          "text": [
            "Line 1 - a is not equal to b\n"
          ]
        }
      ],
      "source": [
        "# Equality check \n",
        "if ( a == b ):  \n",
        "   print (\"Line 1 - a is equal to b\")\n",
        "if( a>b):\n",
        "  print(\"greater\")\n",
        "# elif a>b:\n",
        "#   print(\"a is greater than b\")\n",
        "\n",
        "else:\n",
        "   print (\"Line 1 - a is not equal to b\")"
      ]
    },
    {
      "cell_type": "code",
      "execution_count": null,
      "metadata": {
        "id": "tXbKmJjfdmjB"
      },
      "outputs": [],
      "source": [
        "if ( a != b ):  # NOT operator check \n",
        "   print (\"Line 2 - a is not equal to b\")\n",
        "else:\n",
        "   print (\"Line 2 - a is equal to b\")"
      ]
    },
    {
      "cell_type": "code",
      "execution_count": null,
      "metadata": {
        "id": "zxrDw7BPdmjC"
      },
      "outputs": [],
      "source": [
        "a = 21;b = 10;c = 0  "
      ]
    },
    {
      "cell_type": "code",
      "execution_count": null,
      "metadata": {
        "colab": {
          "base_uri": "https://localhost:8080/"
        },
        "id": "0HJA6MEEdmjC",
        "outputId": "e0bcbb1a-6f1b-48db-b8ea-c4cc4f23c78d"
      },
      "outputs": [
        {
          "output_type": "stream",
          "name": "stdout",
          "text": [
            "Line 4 - a is not less than b\n"
          ]
        }
      ],
      "source": [
        "\n",
        "if ( a < b ): # Less than check \n",
        "   print (\"Line 4 - a is less than b\" )\n",
        "else:\n",
        "   print (\"Line 4 - a is not less than b\")"
      ]
    },
    {
      "cell_type": "code",
      "execution_count": null,
      "metadata": {
        "colab": {
          "base_uri": "https://localhost:8080/"
        },
        "id": "jpd5BXFndmjC",
        "outputId": "7728d04e-6859-4777-837a-51d9a4f6eb2a"
      },
      "outputs": [
        {
          "output_type": "stream",
          "name": "stdout",
          "text": [
            "Line 5 - a is greater than b\n"
          ]
        }
      ],
      "source": [
        "if ( a > b ): # Greater than check \n",
        "   print (\"Line 5 - a is greater than b\")\n",
        "else:\n",
        "   print (\"Line 5 - a is not greater than b\")"
      ]
    },
    {
      "cell_type": "code",
      "execution_count": null,
      "metadata": {
        "colab": {
          "base_uri": "https://localhost:8080/"
        },
        "id": "4JkJL9_KdmjC",
        "outputId": "f808047b-4a8c-42de-c65b-71b155e59328"
      },
      "outputs": [
        {
          "output_type": "stream",
          "name": "stdout",
          "text": [
            "Line 6 - a is neither less than nor equal to  b\n"
          ]
        }
      ],
      "source": [
        "a = 21;b = 10;c = 0\n",
        "\n",
        "if ( a <= b ):  # Less than equal \n",
        "   print (\"Line 6 - a is either less than or equal to  b\")\n",
        "else:\n",
        "  print (\"Line 6 - a is neither less than nor equal to  b\")"
      ]
    },
    {
      "cell_type": "code",
      "execution_count": null,
      "metadata": {
        "colab": {
          "base_uri": "https://localhost:8080/"
        },
        "id": "nk6pKx6RdmjD",
        "outputId": "f099758d-14d3-40ae-80cb-0bd05b575bef"
      },
      "outputs": [
        {
          "output_type": "stream",
          "name": "stdout",
          "text": [
            "Line 7 - b is neither greater than  nor equal to b\n"
          ]
        }
      ],
      "source": [
        "if ( b >= a ):  # Greater than equal \n",
        "   print (\"Line 7 - b is either greater than  or equal to b\")\n",
        "else:\n",
        "   print (\"Line 7 - b is neither greater than  nor equal to b\")"
      ]
    },
    {
      "cell_type": "markdown",
      "metadata": {
        "id": "0VD1T3JIdmjD"
      },
      "source": [
        "### Assignment Operators \n",
        "\n"
      ]
    },
    {
      "cell_type": "code",
      "execution_count": null,
      "metadata": {
        "colab": {
          "base_uri": "https://localhost:8080/"
        },
        "id": "TpRsCnMedmjD",
        "outputId": "bc482583-0c89-45ab-aebf-f7350a0130a3"
      },
      "outputs": [
        {
          "output_type": "stream",
          "name": "stdout",
          "text": [
            "Line 1 - Value of c is  25\n",
            "Line 2 - Value of c is  40\n",
            "Line 3 - Value of c is  600\n",
            "Line 4 - Value of c is  40.0\n"
          ]
        }
      ],
      "source": [
        "\n",
        "a = 15\n",
        "b = 10\n",
        "c = 0\n",
        "\n",
        "c = a + b\n",
        "print (\"Line 1 - Value of c is \", c)\n",
        "\n",
        "c += a\n",
        "print (\"Line 2 - Value of c is \", c )\n",
        "\n",
        "c *= a\n",
        "print (\"Line 3 - Value of c is \", c )\n",
        "\n",
        "c /= a \n",
        "print (\"Line 4 - Value of c is \", c )\n",
        " "
      ]
    },
    {
      "cell_type": "code",
      "execution_count": null,
      "metadata": {
        "colab": {
          "base_uri": "https://localhost:8080/"
        },
        "id": "rzQUFiQIdmjE",
        "outputId": "b236675a-ea32-4c99-b0a8-15d663d9b909"
      },
      "outputs": [
        {
          "output_type": "stream",
          "name": "stdout",
          "text": [
            "Line 5 - Value of c is  2\n",
            "Line 6 - Value of c is  32768\n",
            "Line 7 - Value of c is  2184\n"
          ]
        }
      ],
      "source": [
        "c  = 2\n",
        "print (\"Line 5 - Value of c is \", c)\n",
        "\n",
        "c **= a\n",
        "print (\"Line 6 - Value of c is \", c)\n",
        "\n",
        "c //= a\n",
        "print (\"Line 7 - Value of c is \", c) "
      ]
    },
    {
      "cell_type": "code",
      "execution_count": null,
      "metadata": {
        "colab": {
          "base_uri": "https://localhost:8080/"
        },
        "id": "8BdqyWYHdmjE",
        "outputId": "9fe08bfe-e774-4a2e-9f02-7a979a9852c4"
      },
      "outputs": [
        {
          "output_type": "stream",
          "name": "stdout",
          "text": [
            "Line 8 - Value of c is  9\n"
          ]
        }
      ],
      "source": [
        "c %= a \n",
        "print(\"Line 8 - Value of c is \", c)"
      ]
    },
    {
      "cell_type": "markdown",
      "metadata": {
        "id": "uBBb3D0mdmjE"
      },
      "source": [
        "### Logical Operators "
      ]
    },
    {
      "cell_type": "code",
      "execution_count": null,
      "metadata": {
        "colab": {
          "base_uri": "https://localhost:8080/"
        },
        "id": "2L9MxgvvdmjE",
        "outputId": "840b997b-2993-4c6c-e05b-8ba7cae83927"
      },
      "outputs": [
        {
          "output_type": "stream",
          "name": "stdout",
          "text": [
            "Both 'a' and 'b' !=0\n"
          ]
        }
      ],
      "source": [
        "# AND \n",
        "a = 1; b = -2.5\n",
        "if (a and b): \n",
        "   print (\"Both 'a' and 'b' !=0\") \n",
        "else:\n",
        "   print (\"Either 'a' or 'b' or both =0\")"
      ]
    },
    {
      "cell_type": "code",
      "execution_count": null,
      "metadata": {
        "colab": {
          "base_uri": "https://localhost:8080/"
        },
        "id": "vhA6AtBBdmjF",
        "outputId": "ab453b37-a30b-4bc9-d6e9-df9c5aefbf69"
      },
      "outputs": [
        {
          "output_type": "stream",
          "name": "stdout",
          "text": [
            " both 'a' and 'b' =0\n"
          ]
        }
      ],
      "source": [
        "# OR\n",
        "a = 0; b = 0\n",
        "if (a or b): \n",
        "   print (\"at least one of 'a' or 'b' !=0\") \n",
        "else:\n",
        "   print (\" both 'a' and 'b' =0\")\n"
      ]
    },
    {
      "cell_type": "code",
      "execution_count": null,
      "metadata": {
        "colab": {
          "base_uri": "https://localhost:8080/"
        },
        "id": "YetsQgE-dmjF",
        "outputId": "bfa8278c-785e-4591-ddee-a9fd7ed8e3df"
      },
      "outputs": [
        {
          "output_type": "stream",
          "name": "stdout",
          "text": [
            "a is <= b\n"
          ]
        }
      ],
      "source": [
        "# NOT\n",
        "a = 4; b = 6\n",
        "if not (a>b): \n",
        "   print (\"a is <= b\") \n",
        "else:\n",
        "   print (\"a is > b \")"
      ]
    },
    {
      "cell_type": "markdown",
      "metadata": {
        "id": "tJVjWDjTdmjF"
      },
      "source": [
        "### Membership operator"
      ]
    },
    {
      "cell_type": "code",
      "execution_count": null,
      "metadata": {
        "colab": {
          "base_uri": "https://localhost:8080/"
        },
        "id": "nSENTnw1dmjF",
        "outputId": "18d23dc8-e427-46f1-b219-e8d4d3436a10"
      },
      "outputs": [
        {
          "output_type": "stream",
          "name": "stdout",
          "text": [
            "Line 1 - a is not available in the given list\n",
            "Line 2 - b is available in the given list\n"
          ]
        }
      ],
      "source": [
        "a = 10\n",
        "b = 2\n",
        "list1= [1, 2, 3, 4, 5 ];\n",
        "\n",
        "if ( a in list1 ):\n",
        "   print (\"Line 1 - a is available in the given list\")\n",
        "else:\n",
        "   print (\"Line 1 - a is not available in the given list\")\n",
        "\n",
        "if ( b not in list1 ):\n",
        "   print (\"Line 2 - b is not available in the given list\")\n",
        "else:\n",
        "   print (\"Line 2 - b is available in the given list\")"
      ]
    },
    {
      "cell_type": "markdown",
      "metadata": {
        "id": "QBBx88AcdmjG"
      },
      "source": [
        "### End of Module 1 - Fundamentals "
      ]
    }
  ],
  "metadata": {
    "kernelspec": {
      "display_name": "Python 2",
      "language": "python",
      "name": "python2"
    },
    "language_info": {
      "codemirror_mode": {
        "name": "ipython",
        "version": 2
      },
      "file_extension": ".py",
      "mimetype": "text/x-python",
      "name": "python",
      "nbconvert_exporter": "python",
      "pygments_lexer": "ipython2",
      "version": "2.7.15"
    },
    "colab": {
      "provenance": [],
      "include_colab_link": true
    }
  },
  "nbformat": 4,
  "nbformat_minor": 0
}